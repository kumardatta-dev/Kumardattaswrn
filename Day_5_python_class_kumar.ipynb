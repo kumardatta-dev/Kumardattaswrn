{
 "cells": [
  {
   "cell_type": "markdown",
   "metadata": {},
   "source": [
    "## Accepting User Input"
   ]
  },
  {
   "cell_type": "code",
   "execution_count": 11,
   "metadata": {},
   "outputs": [
    {
     "name": "stdout",
     "output_type": "stream",
     "text": [
      "When was the Second world war endend?1945\n",
      "Correct\n",
      "The second world war was ended by the hiroshima and nagasaki bombing\n"
     ]
    }
   ],
   "source": [
    "h=input('When was the Second world war endend?')\n",
    "print('Correct\\n' 'The second world war was ended by the hiroshima and nagasaki bombing')"
   ]
  },
  {
   "cell_type": "code",
   "execution_count": 12,
   "metadata": {},
   "outputs": [],
   "source": [
    "####---------Code enhancement"
   ]
  },
  {
   "cell_type": "code",
   "execution_count": 14,
   "metadata": {},
   "outputs": [
    {
     "name": "stdout",
     "output_type": "stream",
     "text": [
      "please enter your User ID:kumar datta\n",
      "\n",
      " Welcome back Mr. KUMAR DATTA\n"
     ]
    }
   ],
   "source": [
    "name=input('please enter your User ID:')\n",
    "print(f\"\\n Welcome back Mr.\" ,(name.upper()))"
   ]
  },
  {
   "cell_type": "markdown",
   "metadata": {},
   "source": [
    "# Case Study:"
   ]
  },
  {
   "cell_type": "code",
   "execution_count": 15,
   "metadata": {},
   "outputs": [],
   "source": [
    "###------understanding if conditions\n",
    "###------simple voting application"
   ]
  },
  {
   "cell_type": "code",
   "execution_count": 2,
   "metadata": {},
   "outputs": [
    {
     "name": "stdout",
     "output_type": "stream",
     "text": [
      "how old are you:12\n",
      "sorry please try next year\n"
     ]
    }
   ],
   "source": [
    "age=input('how old are you:')\n",
    "if int(age)>=18:\n",
    "      print('you are eligible for voting')\n",
    "else :\n",
    "    print('sorry please try next year')"
   ]
  },
  {
   "cell_type": "code",
   "execution_count": null,
   "metadata": {},
   "outputs": [],
   "source": []
  }
 ],
 "metadata": {
  "kernelspec": {
   "display_name": "Python 3",
   "language": "python",
   "name": "python3"
  }
 },
 "nbformat": 4,
 "nbformat_minor": 4
}
